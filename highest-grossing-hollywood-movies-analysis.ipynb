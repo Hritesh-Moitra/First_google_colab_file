{
 "cells": [
  {
   "cell_type": "code",
   "execution_count": 1,
   "id": "3c723629",
   "metadata": {
    "_cell_guid": "b1076dfc-b9ad-4769-8c92-a6c4dae69d19",
    "_uuid": "8f2839f25d086af736a60e9eeb907d3b93b6e0e5",
    "execution": {
     "iopub.execute_input": "2022-06-29T16:13:07.428094Z",
     "iopub.status.busy": "2022-06-29T16:13:07.427703Z",
     "iopub.status.idle": "2022-06-29T16:13:07.445629Z",
     "shell.execute_reply": "2022-06-29T16:13:07.444534Z"
    },
    "papermill": {
     "duration": 0.027257,
     "end_time": "2022-06-29T16:13:07.448508",
     "exception": false,
     "start_time": "2022-06-29T16:13:07.421251",
     "status": "completed"
    },
    "tags": []
   },
   "outputs": [
    {
     "name": "stdout",
     "output_type": "stream",
     "text": [
      "/kaggle/input/top-200-highest-grossing-movies/Top 200 Highest Grossing Movies.csv\n"
     ]
    }
   ],
   "source": [
    "# This Python 3 environment comes with many helpful analytics libraries installed\n",
    "# It is defined by the kaggle/python Docker image: https://github.com/kaggle/docker-python\n",
    "# For example, here's several helpful packages to load\n",
    "\n",
    "import numpy as np # linear algebra\n",
    "import pandas as pd # data processing, CSV file I/O (e.g. pd.read_csv)\n",
    "\n",
    "# Input data files are available in the read-only \"../input/\" directory\n",
    "# For example, running this (by clicking run or pressing Shift+Enter) will list all files under the input directory\n",
    "\n",
    "import os\n",
    "for dirname, _, filenames in os.walk('/kaggle/input'):\n",
    "    for filename in filenames:\n",
    "        print(os.path.join(dirname, filename))\n",
    "\n",
    "# You can write up to 20GB to the current directory (/kaggle/working/) that gets preserved as output when you create a version using \"Save & Run All\" \n",
    "# You can also write temporary files to /kaggle/temp/, but they won't be saved outside of the current session"
   ]
  },
  {
   "cell_type": "code",
   "execution_count": 2,
   "id": "939e3a41",
   "metadata": {
    "execution": {
     "iopub.execute_input": "2022-06-29T16:13:07.459275Z",
     "iopub.status.busy": "2022-06-29T16:13:07.458684Z",
     "iopub.status.idle": "2022-06-29T16:13:07.498347Z",
     "shell.execute_reply": "2022-06-29T16:13:07.496757Z"
    },
    "papermill": {
     "duration": 0.047754,
     "end_time": "2022-06-29T16:13:07.501153",
     "exception": false,
     "start_time": "2022-06-29T16:13:07.453399",
     "status": "completed"
    },
    "tags": []
   },
   "outputs": [
    {
     "data": {
      "text/html": [
       "<div>\n",
       "<style scoped>\n",
       "    .dataframe tbody tr th:only-of-type {\n",
       "        vertical-align: middle;\n",
       "    }\n",
       "\n",
       "    .dataframe tbody tr th {\n",
       "        vertical-align: top;\n",
       "    }\n",
       "\n",
       "    .dataframe thead th {\n",
       "        text-align: right;\n",
       "    }\n",
       "</style>\n",
       "<table border=\"1\" class=\"dataframe\">\n",
       "  <thead>\n",
       "    <tr style=\"text-align: right;\">\n",
       "      <th></th>\n",
       "      <th>Rank</th>\n",
       "      <th>Title</th>\n",
       "      <th>Lifetime Gross</th>\n",
       "      <th>Year</th>\n",
       "    </tr>\n",
       "  </thead>\n",
       "  <tbody>\n",
       "    <tr>\n",
       "      <th>0</th>\n",
       "      <td>1</td>\n",
       "      <td>Avatar</td>\n",
       "      <td>$2,847,397,339</td>\n",
       "      <td>2009</td>\n",
       "    </tr>\n",
       "    <tr>\n",
       "      <th>1</th>\n",
       "      <td>2</td>\n",
       "      <td>Avengers: Endgame</td>\n",
       "      <td>$2,797,501,328</td>\n",
       "      <td>2019</td>\n",
       "    </tr>\n",
       "    <tr>\n",
       "      <th>2</th>\n",
       "      <td>3</td>\n",
       "      <td>Titanic</td>\n",
       "      <td>$2,201,647,264</td>\n",
       "      <td>1997</td>\n",
       "    </tr>\n",
       "    <tr>\n",
       "      <th>3</th>\n",
       "      <td>4</td>\n",
       "      <td>Star Wars: Episode VII - The Force Awakens</td>\n",
       "      <td>$2,069,521,700</td>\n",
       "      <td>2015</td>\n",
       "    </tr>\n",
       "    <tr>\n",
       "      <th>4</th>\n",
       "      <td>5</td>\n",
       "      <td>Avengers: Infinity War</td>\n",
       "      <td>$2,048,359,754</td>\n",
       "      <td>2018</td>\n",
       "    </tr>\n",
       "    <tr>\n",
       "      <th>...</th>\n",
       "      <td>...</td>\n",
       "      <td>...</td>\n",
       "      <td>...</td>\n",
       "      <td>...</td>\n",
       "    </tr>\n",
       "    <tr>\n",
       "      <th>195</th>\n",
       "      <td>196</td>\n",
       "      <td>Detective Chinatown 2</td>\n",
       "      <td>$544,185,156</td>\n",
       "      <td>2018</td>\n",
       "    </tr>\n",
       "    <tr>\n",
       "      <th>196</th>\n",
       "      <td>197</td>\n",
       "      <td>X-Men: Apocalypse</td>\n",
       "      <td>$543,934,105</td>\n",
       "      <td>2016</td>\n",
       "    </tr>\n",
       "    <tr>\n",
       "      <th>197</th>\n",
       "      <td>198</td>\n",
       "      <td>Sherlock Holmes: A Game of Shadows</td>\n",
       "      <td>$543,848,418</td>\n",
       "      <td>2011</td>\n",
       "    </tr>\n",
       "    <tr>\n",
       "      <th>198</th>\n",
       "      <td>199</td>\n",
       "      <td>Despicable Me</td>\n",
       "      <td>$543,157,985</td>\n",
       "      <td>2010</td>\n",
       "    </tr>\n",
       "    <tr>\n",
       "      <th>199</th>\n",
       "      <td>200</td>\n",
       "      <td>Cinderella</td>\n",
       "      <td>$542,358,331</td>\n",
       "      <td>2015</td>\n",
       "    </tr>\n",
       "  </tbody>\n",
       "</table>\n",
       "<p>200 rows × 4 columns</p>\n",
       "</div>"
      ],
      "text/plain": [
       "     Rank                                       Title   Lifetime Gross  Year\n",
       "0       1                                      Avatar  $2,847,397,339   2009\n",
       "1       2                           Avengers: Endgame  $2,797,501,328   2019\n",
       "2       3                                     Titanic  $2,201,647,264   1997\n",
       "3       4  Star Wars: Episode VII - The Force Awakens  $2,069,521,700   2015\n",
       "4       5                      Avengers: Infinity War  $2,048,359,754   2018\n",
       "..    ...                                         ...              ...   ...\n",
       "195   196                       Detective Chinatown 2    $544,185,156   2018\n",
       "196   197                           X-Men: Apocalypse    $543,934,105   2016\n",
       "197   198          Sherlock Holmes: A Game of Shadows    $543,848,418   2011\n",
       "198   199                               Despicable Me    $543,157,985   2010\n",
       "199   200                                  Cinderella    $542,358,331   2015\n",
       "\n",
       "[200 rows x 4 columns]"
      ]
     },
     "execution_count": 2,
     "metadata": {},
     "output_type": "execute_result"
    }
   ],
   "source": [
    "df=pd.read_csv('../input/top-200-highest-grossing-movies/Top 200 Highest Grossing Movies.csv')\n",
    "df"
   ]
  },
  {
   "cell_type": "code",
   "execution_count": 3,
   "id": "87d17e46",
   "metadata": {
    "execution": {
     "iopub.execute_input": "2022-06-29T16:13:07.513606Z",
     "iopub.status.busy": "2022-06-29T16:13:07.513112Z",
     "iopub.status.idle": "2022-06-29T16:13:07.539233Z",
     "shell.execute_reply": "2022-06-29T16:13:07.537261Z"
    },
    "papermill": {
     "duration": 0.036671,
     "end_time": "2022-06-29T16:13:07.543039",
     "exception": false,
     "start_time": "2022-06-29T16:13:07.506368",
     "status": "completed"
    },
    "tags": []
   },
   "outputs": [
    {
     "name": "stdout",
     "output_type": "stream",
     "text": [
      "<class 'pandas.core.frame.DataFrame'>\n",
      "RangeIndex: 200 entries, 0 to 199\n",
      "Data columns (total 4 columns):\n",
      " #   Column          Non-Null Count  Dtype \n",
      "---  ------          --------------  ----- \n",
      " 0   Rank            200 non-null    int64 \n",
      " 1   Title           200 non-null    object\n",
      " 2   Lifetime Gross  200 non-null    object\n",
      " 3   Year            200 non-null    int64 \n",
      "dtypes: int64(2), object(2)\n",
      "memory usage: 6.4+ KB\n"
     ]
    }
   ],
   "source": [
    "df.info()"
   ]
  },
  {
   "cell_type": "code",
   "execution_count": 4,
   "id": "11c1a1ea",
   "metadata": {
    "execution": {
     "iopub.execute_input": "2022-06-29T16:13:07.554126Z",
     "iopub.status.busy": "2022-06-29T16:13:07.553736Z",
     "iopub.status.idle": "2022-06-29T16:13:07.568068Z",
     "shell.execute_reply": "2022-06-29T16:13:07.566855Z"
    },
    "papermill": {
     "duration": 0.023556,
     "end_time": "2022-06-29T16:13:07.571275",
     "exception": false,
     "start_time": "2022-06-29T16:13:07.547719",
     "status": "completed"
    },
    "tags": []
   },
   "outputs": [
    {
     "name": "stdout",
     "output_type": "stream",
     "text": [
      "<class 'pandas.core.frame.DataFrame'>\n",
      "RangeIndex: 200 entries, 0 to 199\n",
      "Data columns (total 4 columns):\n",
      " #   Column          Non-Null Count  Dtype \n",
      "---  ------          --------------  ----- \n",
      " 0   Rank            200 non-null    int64 \n",
      " 1   Title           200 non-null    object\n",
      " 2   Lifetime Gross  200 non-null    int64 \n",
      " 3   Year            200 non-null    int64 \n",
      "dtypes: int64(3), object(1)\n",
      "memory usage: 6.4+ KB\n"
     ]
    }
   ],
   "source": [
    "##changing datatype of Lifetime Gross column from object to Integer to perform calulations.\n",
    "df['Lifetime Gross']=df['Lifetime Gross'].replace('[$,]','',regex=True).astype(int) \n",
    "df.info()"
   ]
  },
  {
   "cell_type": "code",
   "execution_count": 5,
   "id": "dc400025",
   "metadata": {
    "execution": {
     "iopub.execute_input": "2022-06-29T16:13:07.582516Z",
     "iopub.status.busy": "2022-06-29T16:13:07.581492Z",
     "iopub.status.idle": "2022-06-29T16:13:07.596270Z",
     "shell.execute_reply": "2022-06-29T16:13:07.594693Z"
    },
    "papermill": {
     "duration": 0.022874,
     "end_time": "2022-06-29T16:13:07.598679",
     "exception": false,
     "start_time": "2022-06-29T16:13:07.575805",
     "status": "completed"
    },
    "tags": []
   },
   "outputs": [
    {
     "data": {
      "text/html": [
       "<div>\n",
       "<style scoped>\n",
       "    .dataframe tbody tr th:only-of-type {\n",
       "        vertical-align: middle;\n",
       "    }\n",
       "\n",
       "    .dataframe tbody tr th {\n",
       "        vertical-align: top;\n",
       "    }\n",
       "\n",
       "    .dataframe thead th {\n",
       "        text-align: right;\n",
       "    }\n",
       "</style>\n",
       "<table border=\"1\" class=\"dataframe\">\n",
       "  <thead>\n",
       "    <tr style=\"text-align: right;\">\n",
       "      <th></th>\n",
       "      <th>Title</th>\n",
       "      <th>Lifetime Gross</th>\n",
       "    </tr>\n",
       "  </thead>\n",
       "  <tbody>\n",
       "    <tr>\n",
       "      <th>0</th>\n",
       "      <td>Avatar</td>\n",
       "      <td>2847397339</td>\n",
       "    </tr>\n",
       "    <tr>\n",
       "      <th>1</th>\n",
       "      <td>Avengers: Endgame</td>\n",
       "      <td>2797501328</td>\n",
       "    </tr>\n",
       "    <tr>\n",
       "      <th>2</th>\n",
       "      <td>Titanic</td>\n",
       "      <td>2201647264</td>\n",
       "    </tr>\n",
       "    <tr>\n",
       "      <th>3</th>\n",
       "      <td>Star Wars: Episode VII - The Force Awakens</td>\n",
       "      <td>2069521700</td>\n",
       "    </tr>\n",
       "    <tr>\n",
       "      <th>4</th>\n",
       "      <td>Avengers: Infinity War</td>\n",
       "      <td>2048359754</td>\n",
       "    </tr>\n",
       "    <tr>\n",
       "      <th>5</th>\n",
       "      <td>Spider-Man: No Way Home</td>\n",
       "      <td>1901218408</td>\n",
       "    </tr>\n",
       "    <tr>\n",
       "      <th>6</th>\n",
       "      <td>Jurassic World</td>\n",
       "      <td>1671537444</td>\n",
       "    </tr>\n",
       "    <tr>\n",
       "      <th>7</th>\n",
       "      <td>The Lion King</td>\n",
       "      <td>1663250487</td>\n",
       "    </tr>\n",
       "    <tr>\n",
       "      <th>8</th>\n",
       "      <td>The Avengers</td>\n",
       "      <td>1518815515</td>\n",
       "    </tr>\n",
       "    <tr>\n",
       "      <th>9</th>\n",
       "      <td>Furious 7</td>\n",
       "      <td>1515341399</td>\n",
       "    </tr>\n",
       "  </tbody>\n",
       "</table>\n",
       "</div>"
      ],
      "text/plain": [
       "                                        Title  Lifetime Gross\n",
       "0                                      Avatar      2847397339\n",
       "1                           Avengers: Endgame      2797501328\n",
       "2                                     Titanic      2201647264\n",
       "3  Star Wars: Episode VII - The Force Awakens      2069521700\n",
       "4                      Avengers: Infinity War      2048359754\n",
       "5                     Spider-Man: No Way Home      1901218408\n",
       "6                              Jurassic World      1671537444\n",
       "7                               The Lion King      1663250487\n",
       "8                                The Avengers      1518815515\n",
       "9                                   Furious 7      1515341399"
      ]
     },
     "execution_count": 5,
     "metadata": {},
     "output_type": "execute_result"
    }
   ],
   "source": [
    "##top 10 movies with highest lifetime collections\n",
    "\n",
    "df1=df[['Title','Lifetime Gross']].copy()\n",
    "df2=df1.sort_values('Lifetime Gross',ascending=False).head(10)\n",
    "df2"
   ]
  },
  {
   "cell_type": "code",
   "execution_count": 6,
   "id": "02e6f20a",
   "metadata": {
    "execution": {
     "iopub.execute_input": "2022-06-29T16:13:07.610672Z",
     "iopub.status.busy": "2022-06-29T16:13:07.609556Z",
     "iopub.status.idle": "2022-06-29T16:13:09.164055Z",
     "shell.execute_reply": "2022-06-29T16:13:09.162774Z"
    },
    "papermill": {
     "duration": 1.563431,
     "end_time": "2022-06-29T16:13:09.166719",
     "exception": false,
     "start_time": "2022-06-29T16:13:07.603288",
     "status": "completed"
    },
    "tags": []
   },
   "outputs": [
    {
     "data": {
      "image/png": "[encoded data removed]",
      "text/plain": [
       "<Figure size 2160x1440 with 1 Axes>"
      ]
     },
     "metadata": {
      "needs_background": "light"
     },
     "output_type": "display_data"
    }
   ],
   "source": [
    "##plotting a bar graph for the top 10 movies along with their collection\n",
    "\n",
    "import matplotlib.pyplot as plt\n",
    "import seaborn as sns\n",
    "\n",
    "x=list(df2['Title'])\n",
    "y=list(df2['Lifetime Gross'])\n",
    "plt.figure(figsize=(30,20))\n",
    "plt.title('Top 10 Movies with their gross earnings')\n",
    "plt.bar(x,y)\n",
    "plt.xlabel('Movies')\n",
    "plt.ylabel('Gross Earnings')\n",
    "plt.show()"
   ]
  },
  {
   "cell_type": "code",
   "execution_count": 7,
   "id": "e727e2bd",
   "metadata": {
    "execution": {
     "iopub.execute_input": "2022-06-29T16:13:09.178952Z",
     "iopub.status.busy": "2022-06-29T16:13:09.178527Z",
     "iopub.status.idle": "2022-06-29T16:13:09.188440Z",
     "shell.execute_reply": "2022-06-29T16:13:09.187300Z"
    },
    "papermill": {
     "duration": 0.018449,
     "end_time": "2022-06-29T16:13:09.190660",
     "exception": false,
     "start_time": "2022-06-29T16:13:09.172211",
     "status": "completed"
    },
    "tags": []
   },
   "outputs": [
    {
     "data": {
      "text/plain": [
       "Year\n",
       "1977     1\n",
       "1982     1\n",
       "1993     1\n",
       "1994     2\n",
       "1996     1\n",
       "1997     3\n",
       "1998     1\n",
       "1999     2\n",
       "2000     1\n",
       "2001     3\n",
       "2002     4\n",
       "2003     4\n",
       "2004     6\n",
       "2005     5\n",
       "2006     5\n",
       "2007     7\n",
       "2008     8\n",
       "2009     7\n",
       "2010     9\n",
       "2011    12\n",
       "2012    12\n",
       "2013    11\n",
       "2014    13\n",
       "2015    12\n",
       "2016    15\n",
       "2017    17\n",
       "2018    14\n",
       "2019    13\n",
       "2021     6\n",
       "2022     4\n",
       "Name: Title, dtype: int64"
      ]
     },
     "execution_count": 7,
     "metadata": {},
     "output_type": "execute_result"
    }
   ],
   "source": [
    "##total number of movies released in different years\n",
    "\n",
    "df3=df.groupby(by='Year')['Title'].count()\n",
    "df3"
   ]
  },
  {
   "cell_type": "code",
   "execution_count": 8,
   "id": "b78531fa",
   "metadata": {
    "execution": {
     "iopub.execute_input": "2022-06-29T16:13:09.204624Z",
     "iopub.status.busy": "2022-06-29T16:13:09.202804Z",
     "iopub.status.idle": "2022-06-29T16:13:09.217196Z",
     "shell.execute_reply": "2022-06-29T16:13:09.216069Z"
    },
    "papermill": {
     "duration": 0.023365,
     "end_time": "2022-06-29T16:13:09.219500",
     "exception": false,
     "start_time": "2022-06-29T16:13:09.196135",
     "status": "completed"
    },
    "tags": []
   },
   "outputs": [
    {
     "data": {
      "text/html": [
       "<div>\n",
       "<style scoped>\n",
       "    .dataframe tbody tr th:only-of-type {\n",
       "        vertical-align: middle;\n",
       "    }\n",
       "\n",
       "    .dataframe tbody tr th {\n",
       "        vertical-align: top;\n",
       "    }\n",
       "\n",
       "    .dataframe thead th {\n",
       "        text-align: right;\n",
       "    }\n",
       "</style>\n",
       "<table border=\"1\" class=\"dataframe\">\n",
       "  <thead>\n",
       "    <tr style=\"text-align: right;\">\n",
       "      <th></th>\n",
       "      <th>Rank</th>\n",
       "      <th>Title</th>\n",
       "      <th>Lifetime Gross</th>\n",
       "      <th>Year</th>\n",
       "    </tr>\n",
       "  </thead>\n",
       "  <tbody>\n",
       "    <tr>\n",
       "      <th>35</th>\n",
       "      <td>36</td>\n",
       "      <td>Toy Story 3</td>\n",
       "      <td>1066970811</td>\n",
       "      <td>2010</td>\n",
       "    </tr>\n",
       "    <tr>\n",
       "      <th>44</th>\n",
       "      <td>45</td>\n",
       "      <td>Alice in Wonderland</td>\n",
       "      <td>1025468216</td>\n",
       "      <td>2010</td>\n",
       "    </tr>\n",
       "    <tr>\n",
       "      <th>49</th>\n",
       "      <td>50</td>\n",
       "      <td>Harry Potter and the Deathly Hallows: Part 1</td>\n",
       "      <td>977070383</td>\n",
       "      <td>2010</td>\n",
       "    </tr>\n",
       "    <tr>\n",
       "      <th>81</th>\n",
       "      <td>82</td>\n",
       "      <td>Inception</td>\n",
       "      <td>836848102</td>\n",
       "      <td>2010</td>\n",
       "    </tr>\n",
       "    <tr>\n",
       "      <th>112</th>\n",
       "      <td>113</td>\n",
       "      <td>Shrek Forever After</td>\n",
       "      <td>752600867</td>\n",
       "      <td>2010</td>\n",
       "    </tr>\n",
       "    <tr>\n",
       "      <th>132</th>\n",
       "      <td>133</td>\n",
       "      <td>The Twilight Saga: Eclipse</td>\n",
       "      <td>698491347</td>\n",
       "      <td>2010</td>\n",
       "    </tr>\n",
       "    <tr>\n",
       "      <th>159</th>\n",
       "      <td>160</td>\n",
       "      <td>Iron Man 2</td>\n",
       "      <td>623933331</td>\n",
       "      <td>2010</td>\n",
       "    </tr>\n",
       "    <tr>\n",
       "      <th>172</th>\n",
       "      <td>173</td>\n",
       "      <td>Tangled</td>\n",
       "      <td>592462816</td>\n",
       "      <td>2010</td>\n",
       "    </tr>\n",
       "    <tr>\n",
       "      <th>198</th>\n",
       "      <td>199</td>\n",
       "      <td>Despicable Me</td>\n",
       "      <td>543157985</td>\n",
       "      <td>2010</td>\n",
       "    </tr>\n",
       "  </tbody>\n",
       "</table>\n",
       "</div>"
      ],
      "text/plain": [
       "     Rank                                         Title  Lifetime Gross  Year\n",
       "35     36                                   Toy Story 3      1066970811  2010\n",
       "44     45                           Alice in Wonderland      1025468216  2010\n",
       "49     50  Harry Potter and the Deathly Hallows: Part 1       977070383  2010\n",
       "81     82                                     Inception       836848102  2010\n",
       "112   113                           Shrek Forever After       752600867  2010\n",
       "132   133                    The Twilight Saga: Eclipse       698491347  2010\n",
       "159   160                                    Iron Man 2       623933331  2010\n",
       "172   173                                       Tangled       592462816  2010\n",
       "198   199                                 Despicable Me       543157985  2010"
      ]
     },
     "execution_count": 8,
     "metadata": {},
     "output_type": "execute_result"
    }
   ],
   "source": [
    "##Films in 2010 in descending order according to their lifetime gross income\n",
    "\n",
    "df4=df[df['Year']==2010]\n",
    "df4"
   ]
  },
  {
   "cell_type": "code",
   "execution_count": 9,
   "id": "9899dde2",
   "metadata": {
    "execution": {
     "iopub.execute_input": "2022-06-29T16:13:09.232980Z",
     "iopub.status.busy": "2022-06-29T16:13:09.231707Z",
     "iopub.status.idle": "2022-06-29T16:13:09.244633Z",
     "shell.execute_reply": "2022-06-29T16:13:09.243680Z"
    },
    "papermill": {
     "duration": 0.022209,
     "end_time": "2022-06-29T16:13:09.247102",
     "exception": false,
     "start_time": "2022-06-29T16:13:09.224893",
     "status": "completed"
    },
    "tags": []
   },
   "outputs": [
    {
     "data": {
      "text/html": [
       "<div>\n",
       "<style scoped>\n",
       "    .dataframe tbody tr th:only-of-type {\n",
       "        vertical-align: middle;\n",
       "    }\n",
       "\n",
       "    .dataframe tbody tr th {\n",
       "        vertical-align: top;\n",
       "    }\n",
       "\n",
       "    .dataframe thead th {\n",
       "        text-align: right;\n",
       "    }\n",
       "</style>\n",
       "<table border=\"1\" class=\"dataframe\">\n",
       "  <thead>\n",
       "    <tr style=\"text-align: right;\">\n",
       "      <th></th>\n",
       "      <th>Title</th>\n",
       "      <th>Lifetime Gross</th>\n",
       "    </tr>\n",
       "  </thead>\n",
       "  <tbody>\n",
       "    <tr>\n",
       "      <th>198</th>\n",
       "      <td>Despicable Me</td>\n",
       "      <td>543157985</td>\n",
       "    </tr>\n",
       "    <tr>\n",
       "      <th>172</th>\n",
       "      <td>Tangled</td>\n",
       "      <td>592462816</td>\n",
       "    </tr>\n",
       "    <tr>\n",
       "      <th>159</th>\n",
       "      <td>Iron Man 2</td>\n",
       "      <td>623933331</td>\n",
       "    </tr>\n",
       "    <tr>\n",
       "      <th>132</th>\n",
       "      <td>The Twilight Saga: Eclipse</td>\n",
       "      <td>698491347</td>\n",
       "    </tr>\n",
       "    <tr>\n",
       "      <th>112</th>\n",
       "      <td>Shrek Forever After</td>\n",
       "      <td>752600867</td>\n",
       "    </tr>\n",
       "    <tr>\n",
       "      <th>81</th>\n",
       "      <td>Inception</td>\n",
       "      <td>836848102</td>\n",
       "    </tr>\n",
       "    <tr>\n",
       "      <th>49</th>\n",
       "      <td>Harry Potter and the Deathly Hallows: Part 1</td>\n",
       "      <td>977070383</td>\n",
       "    </tr>\n",
       "    <tr>\n",
       "      <th>44</th>\n",
       "      <td>Alice in Wonderland</td>\n",
       "      <td>1025468216</td>\n",
       "    </tr>\n",
       "    <tr>\n",
       "      <th>35</th>\n",
       "      <td>Toy Story 3</td>\n",
       "      <td>1066970811</td>\n",
       "    </tr>\n",
       "  </tbody>\n",
       "</table>\n",
       "</div>"
      ],
      "text/plain": [
       "                                            Title  Lifetime Gross\n",
       "198                                 Despicable Me       543157985\n",
       "172                                       Tangled       592462816\n",
       "159                                    Iron Man 2       623933331\n",
       "132                    The Twilight Saga: Eclipse       698491347\n",
       "112                           Shrek Forever After       752600867\n",
       "81                                      Inception       836848102\n",
       "49   Harry Potter and the Deathly Hallows: Part 1       977070383\n",
       "44                            Alice in Wonderland      1025468216\n",
       "35                                    Toy Story 3      1066970811"
      ]
     },
     "execution_count": 9,
     "metadata": {},
     "output_type": "execute_result"
    }
   ],
   "source": [
    "df5=df4[['Title','Lifetime Gross']].copy()\n",
    "df5=df5.sort_values('Lifetime Gross',ascending=True)\n",
    "df5"
   ]
  },
  {
   "cell_type": "code",
   "execution_count": 10,
   "id": "5d982f3f",
   "metadata": {
    "execution": {
     "iopub.execute_input": "2022-06-29T16:13:09.260845Z",
     "iopub.status.busy": "2022-06-29T16:13:09.259575Z",
     "iopub.status.idle": "2022-06-29T16:13:09.268242Z",
     "shell.execute_reply": "2022-06-29T16:13:09.267503Z"
    },
    "papermill": {
     "duration": 0.017453,
     "end_time": "2022-06-29T16:13:09.270292",
     "exception": false,
     "start_time": "2022-06-29T16:13:09.252839",
     "status": "completed"
    },
    "tags": []
   },
   "outputs": [
    {
     "data": {
      "text/plain": [
       "2847397339"
      ]
     },
     "execution_count": 10,
     "metadata": {},
     "output_type": "execute_result"
    }
   ],
   "source": [
    "##film with the highest gross income\n",
    "\n",
    "a=max(df['Lifetime Gross'])\n",
    "a"
   ]
  },
  {
   "cell_type": "code",
   "execution_count": 11,
   "id": "a7060ec7",
   "metadata": {
    "execution": {
     "iopub.execute_input": "2022-06-29T16:13:09.283287Z",
     "iopub.status.busy": "2022-06-29T16:13:09.282908Z",
     "iopub.status.idle": "2022-06-29T16:13:09.290999Z",
     "shell.execute_reply": "2022-06-29T16:13:09.289883Z"
    },
    "papermill": {
     "duration": 0.017567,
     "end_time": "2022-06-29T16:13:09.293404",
     "exception": false,
     "start_time": "2022-06-29T16:13:09.275837",
     "status": "completed"
    },
    "tags": []
   },
   "outputs": [
    {
     "data": {
      "text/plain": [
       "0    Avatar\n",
       "Name: Title, dtype: object"
      ]
     },
     "execution_count": 11,
     "metadata": {},
     "output_type": "execute_result"
    }
   ],
   "source": [
    "##title of the film with highest lifetime gross\n",
    "res=df.Title[df['Lifetime Gross']==a]\n",
    "res"
   ]
  },
  {
   "cell_type": "code",
   "execution_count": 12,
   "id": "0d7d9543",
   "metadata": {
    "execution": {
     "iopub.execute_input": "2022-06-29T16:13:09.306659Z",
     "iopub.status.busy": "2022-06-29T16:13:09.305942Z",
     "iopub.status.idle": "2022-06-29T16:13:09.312400Z",
     "shell.execute_reply": "2022-06-29T16:13:09.311635Z"
    },
    "papermill": {
     "duration": 0.015482,
     "end_time": "2022-06-29T16:13:09.314502",
     "exception": false,
     "start_time": "2022-06-29T16:13:09.299020",
     "status": "completed"
    },
    "tags": []
   },
   "outputs": [
    {
     "data": {
      "text/plain": [
       "542358331"
      ]
     },
     "execution_count": 12,
     "metadata": {},
     "output_type": "execute_result"
    }
   ],
   "source": [
    "b=min(df['Lifetime Gross'])\n",
    "b"
   ]
  },
  {
   "cell_type": "code",
   "execution_count": 13,
   "id": "fea1c4e1",
   "metadata": {
    "execution": {
     "iopub.execute_input": "2022-06-29T16:13:09.328235Z",
     "iopub.status.busy": "2022-06-29T16:13:09.327486Z",
     "iopub.status.idle": "2022-06-29T16:13:09.335808Z",
     "shell.execute_reply": "2022-06-29T16:13:09.334816Z"
    },
    "papermill": {
     "duration": 0.017658,
     "end_time": "2022-06-29T16:13:09.337941",
     "exception": false,
     "start_time": "2022-06-29T16:13:09.320283",
     "status": "completed"
    },
    "tags": []
   },
   "outputs": [
    {
     "data": {
      "text/plain": [
       "199    Cinderella\n",
       "Name: Title, dtype: object"
      ]
     },
     "execution_count": 13,
     "metadata": {},
     "output_type": "execute_result"
    }
   ],
   "source": [
    "##film with lowest lifetime gross income\n",
    "res=df.Title[df['Lifetime Gross']==b]\n",
    "res"
   ]
  },
  {
   "cell_type": "code",
   "execution_count": 14,
   "id": "d9beaa3e",
   "metadata": {
    "execution": {
     "iopub.execute_input": "2022-06-29T16:13:09.351833Z",
     "iopub.status.busy": "2022-06-29T16:13:09.351113Z",
     "iopub.status.idle": "2022-06-29T16:13:09.364759Z",
     "shell.execute_reply": "2022-06-29T16:13:09.363622Z"
    },
    "papermill": {
     "duration": 0.023396,
     "end_time": "2022-06-29T16:13:09.367126",
     "exception": false,
     "start_time": "2022-06-29T16:13:09.343730",
     "status": "completed"
    },
    "tags": []
   },
   "outputs": [
    {
     "data": {
      "text/html": [
       "<div>\n",
       "<style scoped>\n",
       "    .dataframe tbody tr th:only-of-type {\n",
       "        vertical-align: middle;\n",
       "    }\n",
       "\n",
       "    .dataframe tbody tr th {\n",
       "        vertical-align: top;\n",
       "    }\n",
       "\n",
       "    .dataframe thead th {\n",
       "        text-align: right;\n",
       "    }\n",
       "</style>\n",
       "<table border=\"1\" class=\"dataframe\">\n",
       "  <thead>\n",
       "    <tr style=\"text-align: right;\">\n",
       "      <th></th>\n",
       "      <th>Rank</th>\n",
       "      <th>Title</th>\n",
       "      <th>Lifetime Gross</th>\n",
       "      <th>Year</th>\n",
       "    </tr>\n",
       "  </thead>\n",
       "  <tbody>\n",
       "    <tr>\n",
       "      <th>14</th>\n",
       "      <td>15</td>\n",
       "      <td>Star Wars: Episode VIII - The Last Jedi</td>\n",
       "      <td>1332698830</td>\n",
       "      <td>2017</td>\n",
       "    </tr>\n",
       "    <tr>\n",
       "      <th>17</th>\n",
       "      <td>18</td>\n",
       "      <td>Beauty and the Beast</td>\n",
       "      <td>1273576220</td>\n",
       "      <td>2017</td>\n",
       "    </tr>\n",
       "    <tr>\n",
       "      <th>19</th>\n",
       "      <td>20</td>\n",
       "      <td>The Fate of the Furious</td>\n",
       "      <td>1236005118</td>\n",
       "      <td>2017</td>\n",
       "    </tr>\n",
       "    <tr>\n",
       "      <th>41</th>\n",
       "      <td>42</td>\n",
       "      <td>Despicable Me 3</td>\n",
       "      <td>1034800131</td>\n",
       "      <td>2017</td>\n",
       "    </tr>\n",
       "    <tr>\n",
       "      <th>52</th>\n",
       "      <td>53</td>\n",
       "      <td>Jumanji: Welcome to the Jungle</td>\n",
       "      <td>962542945</td>\n",
       "      <td>2017</td>\n",
       "    </tr>\n",
       "    <tr>\n",
       "      <th>69</th>\n",
       "      <td>70</td>\n",
       "      <td>Spider-Man: Homecoming</td>\n",
       "      <td>880166924</td>\n",
       "      <td>2017</td>\n",
       "    </tr>\n",
       "    <tr>\n",
       "      <th>74</th>\n",
       "      <td>75</td>\n",
       "      <td>Wolf Warrior 2</td>\n",
       "      <td>870325439</td>\n",
       "      <td>2017</td>\n",
       "    </tr>\n",
       "    <tr>\n",
       "      <th>77</th>\n",
       "      <td>78</td>\n",
       "      <td>Guardians of the Galaxy Vol. 2</td>\n",
       "      <td>863756051</td>\n",
       "      <td>2017</td>\n",
       "    </tr>\n",
       "    <tr>\n",
       "      <th>80</th>\n",
       "      <td>81</td>\n",
       "      <td>Thor: Ragnarok</td>\n",
       "      <td>853983879</td>\n",
       "      <td>2017</td>\n",
       "    </tr>\n",
       "    <tr>\n",
       "      <th>85</th>\n",
       "      <td>86</td>\n",
       "      <td>Wonder Woman</td>\n",
       "      <td>822854286</td>\n",
       "      <td>2017</td>\n",
       "    </tr>\n",
       "    <tr>\n",
       "      <th>90</th>\n",
       "      <td>91</td>\n",
       "      <td>Coco</td>\n",
       "      <td>807817888</td>\n",
       "      <td>2017</td>\n",
       "    </tr>\n",
       "    <tr>\n",
       "      <th>94</th>\n",
       "      <td>95</td>\n",
       "      <td>Pirates of the Caribbean: Dead Men Tell No Tales</td>\n",
       "      <td>794881442</td>\n",
       "      <td>2017</td>\n",
       "    </tr>\n",
       "    <tr>\n",
       "      <th>129</th>\n",
       "      <td>130</td>\n",
       "      <td>It</td>\n",
       "      <td>701842551</td>\n",
       "      <td>2017</td>\n",
       "    </tr>\n",
       "    <tr>\n",
       "      <th>143</th>\n",
       "      <td>144</td>\n",
       "      <td>Justice League</td>\n",
       "      <td>657926987</td>\n",
       "      <td>2017</td>\n",
       "    </tr>\n",
       "    <tr>\n",
       "      <th>163</th>\n",
       "      <td>164</td>\n",
       "      <td>Logan</td>\n",
       "      <td>619179950</td>\n",
       "      <td>2017</td>\n",
       "    </tr>\n",
       "    <tr>\n",
       "      <th>169</th>\n",
       "      <td>170</td>\n",
       "      <td>Transformers: The Last Knight</td>\n",
       "      <td>605425157</td>\n",
       "      <td>2017</td>\n",
       "    </tr>\n",
       "    <tr>\n",
       "      <th>184</th>\n",
       "      <td>185</td>\n",
       "      <td>Kong: Skull Island</td>\n",
       "      <td>566652812</td>\n",
       "      <td>2017</td>\n",
       "    </tr>\n",
       "  </tbody>\n",
       "</table>\n",
       "</div>"
      ],
      "text/plain": [
       "     Rank                                             Title  Lifetime Gross  \\\n",
       "14     15           Star Wars: Episode VIII - The Last Jedi      1332698830   \n",
       "17     18                              Beauty and the Beast      1273576220   \n",
       "19     20                           The Fate of the Furious      1236005118   \n",
       "41     42                                   Despicable Me 3      1034800131   \n",
       "52     53                    Jumanji: Welcome to the Jungle       962542945   \n",
       "69     70                            Spider-Man: Homecoming       880166924   \n",
       "74     75                                    Wolf Warrior 2       870325439   \n",
       "77     78                    Guardians of the Galaxy Vol. 2       863756051   \n",
       "80     81                                    Thor: Ragnarok       853983879   \n",
       "85     86                                      Wonder Woman       822854286   \n",
       "90     91                                              Coco       807817888   \n",
       "94     95  Pirates of the Caribbean: Dead Men Tell No Tales       794881442   \n",
       "129   130                                                It       701842551   \n",
       "143   144                                    Justice League       657926987   \n",
       "163   164                                             Logan       619179950   \n",
       "169   170                     Transformers: The Last Knight       605425157   \n",
       "184   185                                Kong: Skull Island       566652812   \n",
       "\n",
       "     Year  \n",
       "14   2017  \n",
       "17   2017  \n",
       "19   2017  \n",
       "41   2017  \n",
       "52   2017  \n",
       "69   2017  \n",
       "74   2017  \n",
       "77   2017  \n",
       "80   2017  \n",
       "85   2017  \n",
       "90   2017  \n",
       "94   2017  \n",
       "129  2017  \n",
       "143  2017  \n",
       "163  2017  \n",
       "169  2017  \n",
       "184  2017  "
      ]
     },
     "execution_count": 14,
     "metadata": {},
     "output_type": "execute_result"
    }
   ],
   "source": [
    "df6=df4=df[df['Year']==2017]\n",
    "df6"
   ]
  },
  {
   "cell_type": "code",
   "execution_count": 15,
   "id": "bf8749ba",
   "metadata": {
    "execution": {
     "iopub.execute_input": "2022-06-29T16:13:09.382520Z",
     "iopub.status.busy": "2022-06-29T16:13:09.381766Z",
     "iopub.status.idle": "2022-06-29T16:13:09.652752Z",
     "shell.execute_reply": "2022-06-29T16:13:09.651513Z"
    },
    "papermill": {
     "duration": 0.281986,
     "end_time": "2022-06-29T16:13:09.655384",
     "exception": false,
     "start_time": "2022-06-29T16:13:09.373398",
     "status": "completed"
    },
    "tags": []
   },
   "outputs": [
    {
     "data": {
      "image/png": "[encoded data removed]",
      "text/plain": [
       "<Figure size 360x360 with 1 Axes>"
      ]
     },
     "metadata": {
      "needs_background": "light"
     },
     "output_type": "display_data"
    },
    {
     "name": "stdout",
     "output_type": "stream",
     "text": [
      "0.7294675364008802\n"
     ]
    }
   ],
   "source": [
    "##checking the frequency didtribution of gross income of films in 2017\n",
    "\n",
    "sns.displot(df6['Lifetime Gross'],color='green',kde=True)\n",
    "plt.show()\n",
    "print(df6['Lifetime Gross'].skew(axis=0))"
   ]
  },
  {
   "cell_type": "markdown",
   "id": "73372987",
   "metadata": {
    "papermill": {
     "duration": 0.006296,
     "end_time": "2022-06-29T16:13:09.668080",
     "exception": false,
     "start_time": "2022-06-29T16:13:09.661784",
     "status": "completed"
    },
    "tags": []
   },
   "source": [
    "###The gross income of films for year 2017 is moderately right skewed. "
   ]
  },
  {
   "cell_type": "code",
   "execution_count": null,
   "id": "34856456",
   "metadata": {
    "papermill": {
     "duration": 0.006398,
     "end_time": "2022-06-29T16:13:09.680716",
     "exception": false,
     "start_time": "2022-06-29T16:13:09.674318",
     "status": "completed"
    },
    "tags": []
   },
   "outputs": [],
   "source": []
  }
 ],
 "metadata": {
  "kernelspec": {
   "display_name": "Python 3",
   "language": "python",
   "name": "python3"
  },
  "language_info": {
   "codemirror_mode": {
    "name": "ipython",
    "version": 3
   },
   "file_extension": ".py",
   "mimetype": "text/x-python",
   "name": "python",
   "nbconvert_exporter": "python",
   "pygments_lexer": "ipython3",
   "version": "3.7.12"
  },
  "papermill": {
   "default_parameters": {},
   "duration": 12.353388,
   "end_time": "2022-06-29T16:13:10.409015",
   "environment_variables": {},
   "exception": null,
   "input_path": "__notebook__.ipynb",
   "output_path": "__notebook__.ipynb",
   "parameters": {},
   "start_time": "2022-06-29T16:12:58.055627",
   "version": "2.3.4"
  }
 },
 "nbformat": 4,
 "nbformat_minor": 5
}
